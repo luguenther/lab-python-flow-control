{
 "cells": [
  {
   "cell_type": "markdown",
   "id": "d3bfc191-8885-42ee-b0a0-bbab867c6f9f",
   "metadata": {
    "tags": []
   },
   "source": [
    "# Lab | Flow Control"
   ]
  },
  {
   "cell_type": "markdown",
   "id": "3851fcd1-cf98-4653-9c89-e003b7ec9400",
   "metadata": {},
   "source": [
    "## Exercise: Managing Customer Orders Optimized\n",
    "\n",
    "In the last lab, you were starting an online store that sells various products. To ensure smooth operations, you developed a program that manages customer orders and inventory.\n",
    "\n",
    "You did so without using flow control. Let's go a step further and improve this code.\n",
    "\n",
    "Follow the steps below to complete the exercise:\n",
    "\n",
    "1. Look at your code from the lab data structures, and improve repeated code with loops.\n",
    "\n",
    "2. Instead of asking the user to input the name of three products that a customer wants to order, do the following:\n",
    "    \n",
    "    a. Prompt the user to enter the name of a product that a customer wants to order.\n",
    "    \n",
    "    b. Add the product name to the \"customer_orders\" set.\n",
    "    \n",
    "    c. Ask the user if they want to add another product (yes/no).\n",
    "    \n",
    "    d. Continue the loop until the user does not want to add another product.\n",
    "\n",
    "3. Instead of updating the inventory by subtracting 1 from the quantity of each product, only do it for  the products that were ordered (those in \"customer_orders\")."
   ]
  },
  {
   "cell_type": "code",
   "execution_count": 17,
   "id": "371fd0f9-17fc-4f70-89e5-0ae3b5beec73",
   "metadata": {},
   "outputs": [
    {
     "name": "stdout",
     "output_type": "stream",
     "text": [
      "Please enter the quantity of each product available in the inventory:\n"
     ]
    },
    {
     "name": "stdin",
     "output_type": "stream",
     "text": [
      "Enter the quantity for t-shirt 2\n",
      "Enter the quantity for mug 2\n",
      "Enter the quantity for hat 2\n",
      "Enter the quantity for book 2\n",
      "Enter the quantity for keychain 2\n"
     ]
    }
   ],
   "source": [
    "#1\n",
    "\n",
    "# List that contains various items\n",
    "products = [\"t-shirt\", \"mug\", \"hat\", \"book\", \"keychain\"]\n",
    "\n",
    "# Empty dictionary \n",
    "inventory = {}\n",
    "\n",
    "# Prompt to enter specific quantity\n",
    "print (\"Please enter the quantity of each product available in the inventory:\")\n",
    "\n",
    "# Loop that goes through every item in the product list\n",
    "for item in products:\n",
    "    # Prompts an input to enter the quantity for each and transofrms the input from a string to an integer \n",
    "  quantity = int(input(f\"Enter the quantity for {item}\"))\n",
    "    # Stores the item along with its quantiry in the invenotry dictionary\n",
    "  inventory [item] = quantity\n",
    "\n",
    "# Empty set\n",
    "customer_orders = set()"
   ]
  },
  {
   "cell_type": "code",
   "execution_count": null,
   "id": "3927812c-89f8-4cbc-8fee-c3649f1626aa",
   "metadata": {},
   "outputs": [],
   "source": [
    "# 2"
   ]
  },
  {
   "cell_type": "code",
   "execution_count": 18,
   "id": "2921d425-e7e5-4800-9d7c-59ff0b79a812",
   "metadata": {},
   "outputs": [
    {
     "name": "stdout",
     "output_type": "stream",
     "text": [
      "Please enter the name of the product that a customer wants to order: t-shirt, mug, hat, book or keychain\n"
     ]
    },
    {
     "name": "stdin",
     "output_type": "stream",
     "text": [
      "Enter product name:  t-shirt\n"
     ]
    },
    {
     "name": "stdout",
     "output_type": "stream",
     "text": [
      "Added t-shirt.\n"
     ]
    },
    {
     "name": "stdin",
     "output_type": "stream",
     "text": [
      "Do you want to add another product? yes/no:  yes\n",
      "Enter product name:  mug\n"
     ]
    },
    {
     "name": "stdout",
     "output_type": "stream",
     "text": [
      "Added mug.\n"
     ]
    },
    {
     "name": "stdin",
     "output_type": "stream",
     "text": [
      "Do you want to add another product? yes/no:  yes\n",
      "Enter product name:  hat\n"
     ]
    },
    {
     "name": "stdout",
     "output_type": "stream",
     "text": [
      "Added hat.\n"
     ]
    },
    {
     "name": "stdin",
     "output_type": "stream",
     "text": [
      "Do you want to add another product? yes/no:  no\n"
     ]
    }
   ],
   "source": [
    "# a\n",
    "print(\"Please enter the name of the product that a customer wants to order: t-shirt, mug, hat, book or keychain\")\n",
    "\n",
    "# Loop until the user does not want to enter more products and says no\n",
    "answer = \"yes\"\n",
    "\n",
    "while answer == \"yes\":\n",
    "    product = input(\"Enter product name: \").lower()\n",
    "    if product in products:\n",
    "        customer_orders.add(product) # b\n",
    "        print(f\"Added {product}.\")\n",
    "    else:\n",
    "        print(f\"{product} is not a valid product. Please choose from: {', '.join(products)}\") # d\n",
    "    \n",
    "    # Ask if the user wants to continue\n",
    "    answer = input(\"Do you want to add another product? yes/no: \").lower() # c"
   ]
  },
  {
   "cell_type": "code",
   "execution_count": 19,
   "id": "c40fe516-4816-4c33-8653-cd247692f1dd",
   "metadata": {},
   "outputs": [
    {
     "name": "stdout",
     "output_type": "stream",
     "text": [
      "Order Statistics:\n",
      "Total Products Ordered: 3\n",
      "Percentage of Products Ordered: 30.0\n"
     ]
    }
   ],
   "source": [
    "# Total number of products ordered\n",
    "total_products_ordered = len(customer_orders)\n",
    "\n",
    "# Total inventory available\n",
    "total_inventory = sum(inventory.values())\n",
    "\n",
    "# Percentage of products ordered\n",
    "if total_inventory > 0:  # Avoid division by zero\n",
    "    percentage_ordered = (total_products_ordered / total_inventory) * 100\n",
    "else:\n",
    "    percentage_ordered = 0\n",
    "\n",
    "# Store statistics in a tuple\n",
    "order_status = (total_products_ordered, percentage_ordered)\n",
    "\n",
    "# Calculate the total number of products ordered\n",
    "total_products_ordered = len(customer_orders)  # This gives the count of unique products in the order\n",
    "\n",
    "# Calculate the total available inventory\n",
    "total_inventory = sum(inventory.values())  # Sum up all quantities in the inventory\n",
    "\n",
    "# Calculate the percentage of products ordered\n",
    "if total_inventory > 0:  # Avoid division by zero\n",
    "    percentage_ordered = (total_products_ordered / total_inventory) * 100\n",
    "else:\n",
    "    percentage_ordered = 0  # No inventory means no percentage can be calculated\n",
    "\n",
    "# Store statistics in a tuple\n",
    "order_status = (total_products_ordered, percentage_ordered)\n",
    "\n",
    "# Displays order statistics, total products ordered and percentage of products ordered\n",
    "print(\"Order Statistics:\")\n",
    "print(f\"Total Products Ordered: {total_products_ordered}\")\n",
    "print(f\"Percentage of Products Ordered: {percentage_ordered}\")"
   ]
  },
  {
   "cell_type": "code",
   "execution_count": 20,
   "id": "f5ec176d-5e4e-447b-891a-4327277caede",
   "metadata": {},
   "outputs": [
    {
     "name": "stdout",
     "output_type": "stream",
     "text": [
      "Updated inventory for mug: 1\n",
      "Updated inventory for t-shirt: 1\n",
      "Updated inventory for hat: 1\n"
     ]
    }
   ],
   "source": [
    "# 3\n",
    " # Loop through the ordered products\n",
    "for item in customer_orders: \n",
    "    if inventory [item] > 0:  # Ensure quantity is not already 0\n",
    "        inventory [item] -= 1  # Subtract 1 from the quantity\n",
    "        print(f\"Updated inventory for {item}: {inventory[item]}\")\n",
    "    else: \n",
    "        print(f\"Cannot fulfill order for {item}: Out of stock.\")"
   ]
  },
  {
   "cell_type": "code",
   "execution_count": 21,
   "id": "746febfc-cf54-447e-acfa-e40f4b4ac37d",
   "metadata": {},
   "outputs": [
    {
     "name": "stdout",
     "output_type": "stream",
     "text": [
      "Updated Inventory:\n",
      "t-shirt: 1\n",
      "mug: 1\n",
      "hat: 1\n",
      "book: 2\n",
      "keychain: 2\n"
     ]
    }
   ],
   "source": [
    "# Print updated inventory\n",
    "print(\"Updated Inventory:\")\n",
    "\n",
    "# Loop that display each product in the inventory\n",
    "for item, quantity in inventory.items():\n",
    "    print(f\"{item}: {quantity}\")"
   ]
  }
 ],
 "metadata": {
  "kernelspec": {
   "display_name": "Python 3 (ipykernel)",
   "language": "python",
   "name": "python3"
  },
  "language_info": {
   "codemirror_mode": {
    "name": "ipython",
    "version": 3
   },
   "file_extension": ".py",
   "mimetype": "text/x-python",
   "name": "python",
   "nbconvert_exporter": "python",
   "pygments_lexer": "ipython3",
   "version": "3.12.7"
  }
 },
 "nbformat": 4,
 "nbformat_minor": 5
}
